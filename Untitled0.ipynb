{
  "nbformat": 4,
  "nbformat_minor": 0,
  "metadata": {
    "colab": {
      "provenance": [],
      "authorship_tag": "ABX9TyNmvapIMrJiE4+fF+LpoFhj",
      "include_colab_link": true
    },
    "kernelspec": {
      "name": "python3",
      "display_name": "Python 3"
    },
    "language_info": {
      "name": "python"
    }
  },
  "cells": [
    {
      "cell_type": "markdown",
      "metadata": {
        "id": "view-in-github",
        "colab_type": "text"
      },
      "source": [
        "<a href=\"https://colab.research.google.com/github/AdieshwarReddy/2311cs020426-sigma-section-day3/blob/main/Untitled0.ipynb\" target=\"_parent\"><img src=\"https://colab.research.google.com/assets/colab-badge.svg\" alt=\"Open In Colab\"/></a>"
      ]
    },
    {
      "cell_type": "code",
      "execution_count": null,
      "metadata": {
        "id": "fDH7oivSqE2Z",
        "colab": {
          "base_uri": "https://localhost:8080/"
        },
        "outputId": "c8fc1f90-46fc-492d-f710-d0631dacbc94"
      },
      "outputs": [
        {
          "output_type": "execute_result",
          "data": {
            "text/plain": [
              "314.0"
            ]
          },
          "metadata": {},
          "execution_count": 4
        }
      ],
      "source": [
        "#  day 8 notes\n",
        "def calculateArea(r):\n",
        "  area = 3.14 * r * r\n",
        "  return area\n",
        "calculateArea(10)"
      ]
    },
    {
      "cell_type": "code",
      "source": [
        "def area(l,s):\n",
        "  r=l*s\n",
        "  return r\n",
        "  area(10,20)"
      ],
      "metadata": {
        "id": "yMwmYHDkKoEj"
      },
      "execution_count": null,
      "outputs": []
    },
    {
      "cell_type": "code",
      "source": [
        "def area (radius,length,width):\n",
        "  aoc=3.14*radius*radius\n",
        "  aor=length*width\n",
        "  return aoc,aor\n",
        "area(1,2,33)"
      ],
      "metadata": {
        "colab": {
          "base_uri": "https://localhost:8080/"
        },
        "id": "GBKqfxBjLw4b",
        "outputId": "7a58e2d8-f7ac-44f3-8e1c-33578b8facfd"
      },
      "execution_count": null,
      "outputs": [
        {
          "output_type": "execute_result",
          "data": {
            "text/plain": [
              "(3.14, 66)"
            ]
          },
          "metadata": {},
          "execution_count": 14
        }
      ]
    },
    {
      "cell_type": "code",
      "source": [
        "def area (radius,length,width):\n",
        "  aoc=3.14*radius*radius\n",
        "  aor=length*width\n",
        "  return {\"Area of rectangle  is:\" :aor,\"area of circle is:\":  aoc }\n",
        "area(1,2,33)"
      ],
      "metadata": {
        "colab": {
          "base_uri": "https://localhost:8080/"
        },
        "id": "uclRoe__NGDv",
        "outputId": "03c2c814-7ab3-42fc-8409-f7101606f271"
      },
      "execution_count": null,
      "outputs": [
        {
          "output_type": "execute_result",
          "data": {
            "text/plain": [
              "{'Area of rectangle  is:': 66, 'area of circle is:': 3.14}"
            ]
          },
          "metadata": {},
          "execution_count": 18
        }
      ]
    },
    {
      "cell_type": "code",
      "source": [
        "aor,aoc=area(radius=6,length=2,width=3)\n",
        "aor\n",
        "aoc"
      ],
      "metadata": {
        "colab": {
          "base_uri": "https://localhost:8080/",
          "height": 35
        },
        "id": "OdQTkjuiRDR-",
        "outputId": "7ad93a2d-5f37-409c-d690-b9e795168d85"
      },
      "execution_count": null,
      "outputs": [
        {
          "output_type": "execute_result",
          "data": {
            "text/plain": [
              "'area of circle is:'"
            ],
            "application/vnd.google.colaboratory.intrinsic+json": {
              "type": "string"
            }
          },
          "metadata": {},
          "execution_count": 22
        }
      ]
    },
    {
      "cell_type": "code",
      "source": [
        "s=area(radius=6,length=2,width=3)\n",
        "s\n",
        "type(s)\n"
      ],
      "metadata": {
        "colab": {
          "base_uri": "https://localhost:8080/"
        },
        "id": "ayANmsG-Sy1g",
        "outputId": "f571f58e-0b57-42d3-86eb-09f837a01bed"
      },
      "execution_count": null,
      "outputs": [
        {
          "output_type": "execute_result",
          "data": {
            "text/plain": [
              "dict"
            ]
          },
          "metadata": {},
          "execution_count": 24
        }
      ]
    },
    {
      "cell_type": "code",
      "source": [
        "s[\"Area of rectangle  is:\"]"
      ],
      "metadata": {
        "colab": {
          "base_uri": "https://localhost:8080/"
        },
        "id": "W8-2NWcVS-Sf",
        "outputId": "2fe3f960-5308-4213-f434-dc93a7d48701"
      },
      "execution_count": null,
      "outputs": [
        {
          "output_type": "execute_result",
          "data": {
            "text/plain": [
              "6"
            ]
          },
          "metadata": {},
          "execution_count": 27
        }
      ]
    },
    {
      "cell_type": "code",
      "source": [
        "t='hyderabad 500008 Telangana'\n",
        "t"
      ],
      "metadata": {
        "colab": {
          "base_uri": "https://localhost:8080/",
          "height": 35
        },
        "id": "D9df1H-STQEu",
        "outputId": "44425814-3756-4617-be14-41a9500e8e46"
      },
      "execution_count": null,
      "outputs": [
        {
          "output_type": "execute_result",
          "data": {
            "text/plain": [
              "'hyderabad 500008 Telangana'"
            ],
            "application/vnd.google.colaboratory.intrinsic+json": {
              "type": "string"
            }
          },
          "metadata": {},
          "execution_count": 28
        }
      ]
    },
    {
      "cell_type": "code",
      "source": [
        "# to count the no of numbers and alphabets and space\n",
        "def count(t):\n",
        " alpha =0\n",
        " space=0\n",
        " digit=0\n",
        "\n",
        "for i in t:\n",
        "  if i.isalpha():\n",
        "    alpha=alpha+1\n",
        "  if i.isspace():\n",
        "    space=space+1\n",
        "  if i.isdigit():\n",
        "    digit=digit+1\n",
        "  return alpha,space,digit"
      ],
      "metadata": {
        "id": "8YURbKyfToII"
      },
      "execution_count": null,
      "outputs": []
    },
    {
      "cell_type": "code",
      "source": [
        "count(\"hyderabad     22321 uwywy2h\")"
      ],
      "metadata": {
        "colab": {
          "base_uri": "https://localhost:8080/"
        },
        "id": "c7-WuLtNUAaX",
        "outputId": "21622266-a8c4-4eeb-e4f4-189b03a03e9e"
      },
      "execution_count": null,
      "outputs": [
        {
          "output_type": "execute_result",
          "data": {
            "text/plain": [
              "(1, 0, 0)"
            ]
          },
          "metadata": {},
          "execution_count": 34
        }
      ]
    },
    {
      "cell_type": "code",
      "source": [
        "#\n",
        "def nom(T):\n",
        "  r1=\"\"\n",
        "  for i in T:\n",
        "    if i.isdigit()==False:\n",
        "      r1+=i\n",
        "  return r1"
      ],
      "metadata": {
        "id": "mJsMvCS3VdGJ"
      },
      "execution_count": null,
      "outputs": []
    },
    {
      "cell_type": "code",
      "source": [
        "nom(\"1223   2 2 dd\")"
      ],
      "metadata": {
        "colab": {
          "base_uri": "https://localhost:8080/",
          "height": 35
        },
        "id": "qH1f2eUKWflB",
        "outputId": "ae63a7de-ce11-47c0-b089-a548e07a9056"
      },
      "execution_count": null,
      "outputs": [
        {
          "output_type": "execute_result",
          "data": {
            "text/plain": [
              "'     dd'"
            ],
            "application/vnd.google.colaboratory.intrinsic+json": {
              "type": "string"
            }
          },
          "metadata": {},
          "execution_count": 38
        }
      ]
    },
    {
      "cell_type": "code",
      "source": [
        "h=[30,20,5,8,9]\n",
        "h"
      ],
      "metadata": {
        "id": "LeKUYgThWiwL",
        "colab": {
          "base_uri": "https://localhost:8080/"
        },
        "outputId": "60b4a84c-3940-4a89-c93d-963ee3aefda9"
      },
      "execution_count": 1,
      "outputs": [
        {
          "output_type": "execute_result",
          "data": {
            "text/plain": [
              "[30, 20, 5, 8, 9]"
            ]
          },
          "metadata": {},
          "execution_count": 1
        }
      ]
    },
    {
      "cell_type": "code",
      "source": [
        "numbers = [1, 2, 3, 4, 5]\n",
        "\n",
        "\n",
        "updated_numbers = [i + 7 for i in numbers]\n",
        "\n",
        "\n",
        "print(\"Original List:\", numbers)\n",
        "print(\"Updated List:\", updated_numbers)\n",
        "\n"
      ],
      "metadata": {
        "colab": {
          "base_uri": "https://localhost:8080/"
        },
        "id": "cGXE_mvcOiCX",
        "outputId": "bf92f2a9-cf8b-4b7c-dc09-106611f3015f"
      },
      "execution_count": 3,
      "outputs": [
        {
          "output_type": "stream",
          "name": "stdout",
          "text": [
            "Original List: [1, 2, 3, 4, 5]\n",
            "Updated List: [8, 9, 10, 11, 12]\n"
          ]
        }
      ]
    },
    {
      "cell_type": "code",
      "source": [
        "numbers = [1, 2, 3, 4, 5]\n",
        "\n",
        "\n",
        "updated_numbers = [i ** 7 for i in numbers]\n",
        "\n",
        "\n",
        "print(\"Original List:\", numbers)\n",
        "print(\"Updated List:\", updated_numbers)\n"
      ],
      "metadata": {
        "colab": {
          "base_uri": "https://localhost:8080/"
        },
        "id": "Da5Lv7HEPbAK",
        "outputId": "a68a9ebf-e970-4754-d14e-d720bf5c2cbf"
      },
      "execution_count": 4,
      "outputs": [
        {
          "output_type": "stream",
          "name": "stdout",
          "text": [
            "Original List: [1, 2, 3, 4, 5]\n",
            "Updated List: [1, 128, 2187, 16384, 78125]\n"
          ]
        }
      ]
    },
    {
      "cell_type": "code",
      "source": [
        "s=(1,2,3,4,5)\n",
        "supdatednumber=[i-2 for i in s]\n",
        "print(\"original list: \", s)\n",
        "print(\"updated list: \", supdatednumber)"
      ],
      "metadata": {
        "colab": {
          "base_uri": "https://localhost:8080/"
        },
        "id": "svzAAHUwQ0hC",
        "outputId": "1809d786-94a2-4c72-cba4-7c4300ba65f2"
      },
      "execution_count": 5,
      "outputs": [
        {
          "output_type": "stream",
          "name": "stdout",
          "text": [
            "original list:  (1, 2, 3, 4, 5)\n",
            "updated list:  [-1, 0, 1, 2, 3]\n"
          ]
        }
      ]
    },
    {
      "cell_type": "code",
      "source": [
        "m=[]\n",
        "for i in s:\n",
        "  if i>3:\n",
        "    m.append(i)\n",
        "print(m)"
      ],
      "metadata": {
        "colab": {
          "base_uri": "https://localhost:8080/"
        },
        "id": "A3nAmNIPRoUh",
        "outputId": "4f63672f-17b8-4af7-cee0-17dda0de0a8a"
      },
      "execution_count": 6,
      "outputs": [
        {
          "output_type": "stream",
          "name": "stdout",
          "text": [
            "[4, 5]\n"
          ]
        }
      ]
    },
    {
      "cell_type": "code",
      "source": [
        "\n",
        "k=[232,3,433,383,3222,]\n",
        "k"
      ],
      "metadata": {
        "colab": {
          "base_uri": "https://localhost:8080/"
        },
        "id": "2828xQXASsOV",
        "outputId": "4535c30a-1135-4fad-ee2e-d7f4f3e84798"
      },
      "execution_count": 10,
      "outputs": [
        {
          "output_type": "execute_result",
          "data": {
            "text/plain": [
              "[232, 3, 433, 383, 3222]"
            ]
          },
          "metadata": {},
          "execution_count": 10
        }
      ]
    },
    {
      "cell_type": "code",
      "source": [],
      "metadata": {
        "id": "fm09zEviTIk-"
      },
      "execution_count": null,
      "outputs": []
    }
  ]
}