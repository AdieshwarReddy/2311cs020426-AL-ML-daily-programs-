{
  "nbformat": 4,
  "nbformat_minor": 0,
  "metadata": {
    "colab": {
      "provenance": [],
      "mount_file_id": "14hzRp4LMfpeq4_1JHSwiT8oLAaY6F3In",
      "authorship_tag": "ABX9TyM89qhXQ9Q7aFps7WOeeRkS",
      "include_colab_link": true
    },
    "kernelspec": {
      "name": "python3",
      "display_name": "Python 3"
    },
    "language_info": {
      "name": "python"
    }
  },
  "cells": [
    {
      "cell_type": "markdown",
      "metadata": {
        "id": "view-in-github",
        "colab_type": "text"
      },
      "source": [
        "<a href=\"https://colab.research.google.com/github/AdieshwarReddy/2311cs020426-AL-ML-daily-programs-/blob/main/Implement_a_program_to_construct_a_decision_tree_from_a_dataset.ipynb\" target=\"_parent\"><img src=\"https://colab.research.google.com/assets/colab-badge.svg\" alt=\"Open In Colab\"/></a>"
      ]
    },
    {
      "cell_type": "code",
      "execution_count": 13,
      "metadata": {
        "colab": {
          "base_uri": "https://localhost:8080/"
        },
        "id": "sy0kMMoIpXQC",
        "outputId": "2b928c09-c570-44f6-c179-7150bd632498"
      },
      "outputs": [
        {
          "output_type": "stream",
          "name": "stdout",
          "text": [
            "     pregnant  insulin   bmi  age  glucose  bp  pedigree\n",
            "88         15      110  37.1   43      136  70     0.153\n",
            "467         0      100  36.8   25       97  64     0.600\n",
            "550         1        0  27.4   21      116  70     0.204\n",
            "147         2      119  30.5   34      106  64     1.400\n",
            "481         0        0  35.2   29      123  88     0.197\n",
            "88     1\n",
            "467    0\n",
            "550    0\n",
            "147    0\n",
            "481    0\n",
            "Name: label, dtype: int64\n",
            "     pregnant  insulin   bmi  age  glucose  bp  pedigree\n",
            "285         7      135  26.0   51      136  74     0.647\n",
            "101         1        0  26.1   22      151  60     0.179\n",
            "581         6        0  25.0   27      109  60     0.206\n",
            "352         3        0  34.4   46       61  82     0.243\n",
            "726         1      180  36.1   25      116  78     0.496\n",
            "285    0\n",
            "101    0\n",
            "581    0\n",
            "352    0\n",
            "726    0\n",
            "Name: label, dtype: int64\n",
            "Accuracy: 0.6883116883116883\n"
          ]
        }
      ],
      "source": [
        "# %pip install scikit-fuzzy\n",
        "# %pip install seaborn\n",
        "# %pip install pandas\n",
        "\n",
        "import pandas as  pd\n",
        "# # Load libraries import pandas as pd\n",
        "from sklearn.tree import DecisionTreeClassifier\n",
        " # Import Decision Tree Classifier\n",
        "from sklearn.model_selection import train_test_split\n",
        "# Import train_test_split function\n",
        "from sklearn import metrics\n",
        "#Import scikit-learn metrics module for accuracy calculation\n",
        "col_names = ['pregnant', 'glucose', 'bp', 'skin', 'insulin', 'bmi', 'pedigree', 'age', 'label']\n",
        "# load dataset\n",
        "pima = pd.read_csv(\"/content/drive/MyDrive/ML lab rrograms/diabetes1.csv\", header=0, names=col_names)\n",
        "pima.head()\n",
        "#split dataset in features and target variable\n",
        "feature_cols = ['pregnant', 'insulin', 'bmi', 'age','glucose','bp','pedigree']\n",
        "X = pima[feature_cols] # Features\n",
        "y = pima.label # Target variable\n",
        "\n",
        "\n",
        "# Split dataset into training set and test set\n",
        "X_train, X_test, y_train, y_test = train_test_split(X, y, test_size=0.3, random_state=1) # 70% training and 30% test\n",
        "# Create Decision Tree classifer object\n",
        "clf = DecisionTreeClassifier()\n",
        "# Train Decision Tree Classifer\n",
        "clf = clf.fit(X_train,y_train)\n",
        "print(X_train.head())\n",
        "print(y_train.head())\n",
        "#Predict the response for test dataset\n",
        "y_pred = clf.predict(X_test)\n",
        "print(X_test.head())\n",
        "#print(y_pred.head())\n",
        "print(y_test.head())\n",
        "\n",
        "# Model Accuracy, how often is the classifier correct?\n",
        "print(\"Accuracy:\",metrics.accuracy_score(y_test, y_pred))"
      ]
    },
    {
      "cell_type": "code",
      "source": [],
      "metadata": {
        "id": "rymIn43kqM0n"
      },
      "execution_count": null,
      "outputs": []
    }
  ]
}