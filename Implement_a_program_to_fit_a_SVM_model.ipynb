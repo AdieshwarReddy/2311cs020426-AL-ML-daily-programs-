{
  "nbformat": 4,
  "nbformat_minor": 0,
  "metadata": {
    "colab": {
      "provenance": [],
      "mount_file_id": "14hzRp4LMfpeq4_1JHSwiT8oLAaY6F3In",
      "authorship_tag": "ABX9TyM4GGwnNFp1YRcY5mQFZBVf",
      "include_colab_link": true
    },
    "kernelspec": {
      "name": "python3",
      "display_name": "Python 3"
    },
    "language_info": {
      "name": "python"
    }
  },
  "cells": [
    {
      "cell_type": "markdown",
      "metadata": {
        "id": "view-in-github",
        "colab_type": "text"
      },
      "source": [
        "<a href=\"https://colab.research.google.com/github/AdieshwarReddy/2311cs020426-AL-ML-daily-programs-/blob/main/Implement_a_program_to_fit_a_SVM_model.ipynb\" target=\"_parent\"><img src=\"https://colab.research.google.com/assets/colab-badge.svg\" alt=\"Open In Colab\"/></a>"
      ]
    },
    {
      "cell_type": "code",
      "execution_count": 15,
      "metadata": {
        "colab": {
          "base_uri": "https://localhost:8080/"
        },
        "id": "sy0kMMoIpXQC",
        "outputId": "171e0f5a-7d42-4288-85ec-4fec0c3a4cfc"
      },
      "outputs": [
        {
          "output_type": "stream",
          "name": "stdout",
          "text": [
            "SVM Model Accuracy: 87.00%\n"
          ]
        }
      ],
      "source": [
        "import numpy as np\n",
        "from sklearn.model_selection import train_test_split\n",
        "from sklearn.svm import SVC\n",
        "from sklearn.metrics import accuracy_score\n",
        "\n",
        "# 1. Generate or load your data\n",
        "# For this example, let's generate a synthetic dataset\n",
        "from sklearn.datasets import make_classification\n",
        "X, y = make_classification(n_samples=1000, n_features=20, random_state=42)\n",
        "\n",
        "# 2. Split data into training and testing sets\n",
        "X_train, X_test, y_train, y_test = train_test_split(X, y, test_size=0.2, random_state=42)\n",
        "\n",
        "# 3. Create an SVM classifier object\n",
        "# You can choose different kernels (e.g., 'linear', 'rbf', 'poly')\n",
        "# and adjust hyperparameters like C and gamma\n",
        "svm_classifier = SVC(kernel='linear', C=1.0)\n",
        "\n",
        "# 4. Fit the model to the training data\n",
        "svm_classifier.fit(X_train, y_train)\n",
        "\n",
        "# 5. Make predictions on the test data\n",
        "y_pred = svm_classifier.predict(X_test)\n",
        "\n",
        "# 6. Evaluate the model's performance\n",
        "accuracy = accuracy_score(y_test, y_pred)\n",
        "print(f\"SVM Model Accuracy: {accuracy * 100:.2f}%\")"
      ]
    },
    {
      "cell_type": "code",
      "source": [],
      "metadata": {
        "id": "rymIn43kqM0n"
      },
      "execution_count": null,
      "outputs": []
    }
  ]
}