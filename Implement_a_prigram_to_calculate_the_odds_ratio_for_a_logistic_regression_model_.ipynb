{
  "nbformat": 4,
  "nbformat_minor": 0,
  "metadata": {
    "colab": {
      "provenance": [],
      "mount_file_id": "1U_dEUyPW5Aw_kEboDsz0CBfu4o5I9hhL",
      "authorship_tag": "ABX9TyOO2MKoGD6H3cpSqwQk/J5j",
      "include_colab_link": true
    },
    "kernelspec": {
      "name": "python3",
      "display_name": "Python 3"
    },
    "language_info": {
      "name": "python"
    }
  },
  "cells": [
    {
      "cell_type": "markdown",
      "metadata": {
        "id": "view-in-github",
        "colab_type": "text"
      },
      "source": [
        "<a href=\"https://colab.research.google.com/github/AdieshwarReddy/2311cs020426-AL-ML-daily-programs-/blob/main/Implement_a_prigram_to_calculate_the_odds_ratio_for_a_logistic_regression_model_.ipynb\" target=\"_parent\"><img src=\"https://colab.research.google.com/assets/colab-badge.svg\" alt=\"Open In Colab\"/></a>"
      ]
    },
    {
      "cell_type": "code",
      "source": [
        "import numpy as np\n",
        "import pandas as pd\n",
        "from sklearn.model_selection import train_test_split\n",
        "from sklearn.linear_model import LogisticRegression\n",
        "from sklearn.metrics import accuracy_score\n",
        "\n",
        "# Load or create your dataset\n",
        "# For simplicity, let's create a sample dataset\n",
        "data = {\n",
        "    'Age': [25, 30, 35, 40, 45, 50, 55, 60, 65, 70],\n",
        "    'Smoker': [0, 1, 0, 1, 0, 1, 0, 1, 0, 1],\n",
        "    'Outcome': [0, 0, 0, 1, 1, 1, 1, 1, 1, 1]\n",
        "}\n",
        "df = pd.DataFrame(data)\n",
        "\n",
        "# Split the dataset into features (X) and target variable (y)\n",
        "X = df[['Age', 'Smoker']]\n",
        "y = df['Outcome']\n",
        "\n",
        "# Split the data into training and testing sets\n",
        "X_train, X_test, y_train, y_test = train_test_split(X, y, test_size=0.2, random_state=42)#20 % testing and 80% training\n",
        "\n",
        "# Train a logistic regression model\n",
        "model = LogisticRegression()\n",
        "model.fit(X_train, y_train)\n",
        "\n",
        "# Make predictions on the test set\n",
        "y_pred = model.predict(X_test)\n",
        "\n",
        "# Calculate the accuracy of the model\n",
        "accuracy = accuracy_score(y_test, y_pred)\n",
        "print(f'Accuracy: {accuracy:.2f}')\n",
        "\n",
        "# Calculate odds ratio for each feature\n",
        "odds_ratio = np.exp(model.coef_)\n",
        "print(f'Odds Ratio: {odds_ratio}')"
      ],
      "metadata": {
        "colab": {
          "base_uri": "https://localhost:8080/"
        },
        "id": "UCn4pV4rBcyG",
        "outputId": "f4b2e6aa-6701-4218-ab04-68408b476190"
      },
      "execution_count": 7,
      "outputs": [
        {
          "output_type": "stream",
          "name": "stdout",
          "text": [
            "Accuracy: 1.00\n",
            "Odds Ratio: [[2.04588459 1.14202615]]\n"
          ]
        }
      ]
    },
    {
      "cell_type": "code",
      "source": [],
      "metadata": {
        "id": "hHlmIKGDkWlt"
      },
      "execution_count": null,
      "outputs": []
    }
  ]
}