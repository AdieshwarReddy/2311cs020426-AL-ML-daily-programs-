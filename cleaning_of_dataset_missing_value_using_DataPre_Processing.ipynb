{
  "nbformat": 4,
  "nbformat_minor": 0,
  "metadata": {
    "colab": {
      "provenance": [],
      "authorship_tag": "ABX9TyO7cQzWdhAKeRihRmqkcp7f",
      "include_colab_link": true
    },
    "kernelspec": {
      "name": "python3",
      "display_name": "Python 3"
    },
    "language_info": {
      "name": "python"
    }
  },
  "cells": [
    {
      "cell_type": "markdown",
      "metadata": {
        "id": "view-in-github",
        "colab_type": "text"
      },
      "source": [
        "<a href=\"https://colab.research.google.com/github/AdieshwarReddy/2311cs020426-AL-ML-daily-programs-/blob/main/cleaning_of_dataset_missing_value_using_DataPre_Processing.ipynb\" target=\"_parent\"><img src=\"https://colab.research.google.com/assets/colab-badge.svg\" alt=\"Open In Colab\"/></a>"
      ]
    },
    {
      "cell_type": "code",
      "execution_count": 1,
      "metadata": {
        "colab": {
          "base_uri": "https://localhost:8080/"
        },
        "id": "S0iF7yL_j799",
        "outputId": "1b9a77b0-86dd-449e-a567-2f61ebaaa268"
      },
      "outputs": [
        {
          "output_type": "stream",
          "name": "stdout",
          "text": [
            "Original Dataset:\n",
            "    PassengerId     Name   Age   Fare  Survived\n",
            "0            1     John  22.0   7.25         0\n",
            "1            2     Jane   NaN  71.28         1\n",
            "2            3      Bob  25.0    NaN         1\n",
            "3            4    Alice   NaN   8.05         0\n",
            "4            5  Charlie  30.0  10.50         1\n",
            "\n",
            "Missing Values Before Imputation:\n",
            " PassengerId    0\n",
            "Name           0\n",
            "Age            2\n",
            "Fare           1\n",
            "Survived       0\n",
            "dtype: int64\n",
            "\n",
            "Missing Values After Imputation:\n",
            " Name           0\n",
            "PassengerId    0\n",
            "Age            0\n",
            "Fare           0\n",
            "Survived       0\n",
            "dtype: int64\n",
            "\n",
            "Cleaned Dataset:\n",
            "       Name  PassengerId        Age   Fare  Survived\n",
            "0     John          1.0  22.000000   7.25       0.0\n",
            "1     Jane          2.0  25.666667  71.28       1.0\n",
            "2      Bob          3.0  25.000000  24.27       1.0\n",
            "3    Alice          4.0  25.666667   8.05       0.0\n",
            "4  Charlie          5.0  30.000000  10.50       1.0\n"
          ]
        }
      ],
      "source": [
        "import pandas as pd\n",
        "from sklearn.impute import SimpleImputer#simple imputer fills the dataset with mean,median,constant,most frequent.\n",
        "\n",
        "def generate_example_dataset():\n",
        "    # Create an example dataset with missing values\n",
        "    data = {\n",
        "        'PassengerId': [1, 2, 3, 4, 5],\n",
        "        'Name': ['John', 'Jane', 'Bob', 'Alice', 'Charlie'],\n",
        "        'Age': [22, None, 25, None, 30],\n",
        "        'Fare': [7.25, 71.28, None, 8.05, 10.5],\n",
        "        'Survived': [0, 1, 1, 0, 1]\n",
        "    }\n",
        "    return pd.DataFrame(data)\n",
        "    #dataframe is a table  like structure in pandas similar to an excel sheet\n",
        "\n",
        "\n",
        "def clean_dataset(df):\n",
        "    print(\"Original Dataset:\\n\", df)\n",
        "    print(\"\\nMissing Values Before Imputation:\\n\", df.isnull().sum())\n",
        "\n",
        "    # Separate numeric and non-numeric columns\n",
        "    numeric_df = df.select_dtypes(include=['number'])# Selects only numeric value column.\n",
        "    non_numeric_df = df.select_dtypes(exclude=['number'])\n",
        "\n",
        "    # Handling missing values using SimpleImputer (mean strategy)\n",
        "    imputer = SimpleImputer(strategy='mean')\n",
        "    numeric_df_cleaned = pd.DataFrame(imputer.fit_transform(numeric_df), columns=numeric_df.columns)\n",
        "\n",
        "    # Merge back non-numeric columns\n",
        "    df_cleaned = pd.concat([non_numeric_df.reset_index(drop=True), numeric_df_cleaned], axis=1)\n",
        "\n",
        "    print(\"\\nMissing Values After Imputation:\\n\", df_cleaned.isnull().sum())\n",
        "    print(\"\\nCleaned Dataset:\\n\", df_cleaned)\n",
        "\n",
        "    return df_cleaned\n",
        "\n",
        "if __name__ == \"__main__\":\n",
        "    # Generate an example dataset with missing values\n",
        "    example_dataset = generate_example_dataset()\n",
        "\n",
        "    # Call the clean_dataset function\n",
        "    clean_dataset(example_dataset)\n"
      ]
    },
    {
      "cell_type": "code",
      "source": [],
      "metadata": {
        "id": "hHlmIKGDkWlt"
      },
      "execution_count": null,
      "outputs": []
    }
  ]
}