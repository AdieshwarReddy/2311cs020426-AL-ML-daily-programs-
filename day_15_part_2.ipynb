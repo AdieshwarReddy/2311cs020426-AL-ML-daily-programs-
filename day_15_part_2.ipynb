{
  "nbformat": 4,
  "nbformat_minor": 0,
  "metadata": {
    "colab": {
      "provenance": [],
      "authorship_tag": "ABX9TyP42yMITsOW5E8/+zpyX+1L",
      "include_colab_link": true
    },
    "kernelspec": {
      "name": "python3",
      "display_name": "Python 3"
    },
    "language_info": {
      "name": "python"
    }
  },
  "cells": [
    {
      "cell_type": "markdown",
      "metadata": {
        "id": "view-in-github",
        "colab_type": "text"
      },
      "source": [
        "<a href=\"https://colab.research.google.com/github/AdieshwarReddy/2311cs020426-AL-ML-daily-programs-/blob/main/day_15_part_2.ipynb\" target=\"_parent\"><img src=\"https://colab.research.google.com/assets/colab-badge.svg\" alt=\"Open In Colab\"/></a>"
      ]
    },
    {
      "cell_type": "code",
      "execution_count": null,
      "metadata": {
        "id": "rW5DOw3rd2LV"
      },
      "outputs": [],
      "source": [
        "from sklearn.ensemble import IsolationForest\n",
        "import seaborn as sns\n",
        "import pandas as pd\n",
        "import numpy as np"
      ]
    },
    {
      "cell_type": "code",
      "source": [
        "data = sns.load_datasat(\"iris\")\n",
        "data"
      ],
      "metadata": {
        "id": "UW6ovPDdeUIh"
      },
      "execution_count": null,
      "outputs": []
    },
    {
      "cell_type": "code",
      "source": [
        "from scipy.stats  import zscore\n",
        "#data=sns.Load_dataset('iris)\n",
        "df=data.copy()\n",
        "z_scores=np.abs(z)"
      ],
      "metadata": {
        "id": "K0yAgA5ueaxA"
      },
      "execution_count": 1,
      "outputs": []
    },
    {
      "cell_type": "markdown",
      "source": [
        "#Learn absolue function and Emperical function"
      ],
      "metadata": {
        "id": "BmKBVa7GhkWM"
      }
    },
    {
      "cell_type": "code",
      "source": [],
      "metadata": {
        "id": "8s7kAMoxeyIf"
      },
      "execution_count": null,
      "outputs": []
    }
  ]
}