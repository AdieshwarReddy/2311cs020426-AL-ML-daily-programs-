{
  "cells": [
    {
      "cell_type": "markdown",
      "metadata": {
        "id": "view-in-github",
        "colab_type": "text"
      },
      "source": [
        "<a href=\"https://colab.research.google.com/github/AdieshwarReddy/2311cs020426-sigma-section-day3/blob/main/demo123.ipynb\" target=\"_parent\"><img src=\"https://colab.research.google.com/assets/colab-badge.svg\" alt=\"Open In Colab\"/></a>"
      ]
    },
    {
      "cell_type": "markdown",
      "metadata": {
        "id": "vboEpH2XTQcY"
      },
      "source": []
    },
    {
      "cell_type": "code",
      "execution_count": null,
      "metadata": {
        "colab": {
          "base_uri": "https://localhost:8080/"
        },
        "id": "0Pui2vp9SVMe",
        "outputId": "e78c9216-0e1c-4c6d-da35-7a59a95a928c"
      },
      "outputs": [
        {
          "data": {
            "text/plain": [
              "str"
            ]
          },
          "execution_count": 3,
          "metadata": {},
          "output_type": "execute_result"
        }
      ],
      "source": [
        "a =\"adie\";\n",
        "b=27\n",
        "c=5.9\n",
        "d='Excelr solutions';\n",
        "e=True"
      ]
    },
    {
      "cell_type": "code",
      "execution_count": null,
      "metadata": {
        "id": "lFZODEuxYoM6"
      },
      "outputs": [],
      "source": [
        "type(a)"
      ]
    },
    {
      "cell_type": "markdown",
      "metadata": {
        "id": "eFvuScdSYoyP"
      },
      "source": []
    },
    {
      "cell_type": "markdown",
      "metadata": {
        "id": "c86pUoxnYpHM"
      },
      "source": []
    },
    {
      "cell_type": "code",
      "execution_count": null,
      "metadata": {
        "colab": {
          "base_uri": "https://localhost:8080/",
          "height": 158
        },
        "id": "_uxw0A73aLKR",
        "outputId": "7d52959e-ca2f-4245-f586-6de949986d9d"
      },
      "outputs": [
        {
          "output_type": "error",
          "ename": "NameError",
          "evalue": "name 'b' is not defined",
          "traceback": [
            "\u001b[0;31m---------------------------------------------------------------------------\u001b[0m",
            "\u001b[0;31mNameError\u001b[0m                                 Traceback (most recent call last)",
            "\u001b[0;32m<ipython-input-4-b0df19af0a28>\u001b[0m in \u001b[0;36m<cell line: 2>\u001b[0;34m()\u001b[0m\n\u001b[1;32m      1\u001b[0m \u001b[0ma\u001b[0m \u001b[0;34m=\u001b[0m\u001b[0;36m10\u001b[0m\u001b[0;34m\u001b[0m\u001b[0;34m\u001b[0m\u001b[0m\n\u001b[0;32m----> 2\u001b[0;31m \u001b[0mprint\u001b[0m\u001b[0;34m(\u001b[0m\u001b[0ma\u001b[0m\u001b[0;34m/\u001b[0m\u001b[0mb\u001b[0m\u001b[0;34m)\u001b[0m\u001b[0;34m\u001b[0m\u001b[0;34m\u001b[0m\u001b[0m\n\u001b[0m",
            "\u001b[0;31mNameError\u001b[0m: name 'b' is not defined"
          ]
        }
      ],
      "source": [
        "a =10\n",
        "print(a/b)"
      ]
    },
    {
      "cell_type": "code",
      "execution_count": null,
      "metadata": {
        "colab": {
          "base_uri": "https://localhost:8080/",
          "height": 36
        },
        "id": "kHxcFtxYbcAJ",
        "outputId": "f6b334ad-bf5a-4af9-f5a9-d4597d1e0288"
      },
      "outputs": [
        {
          "output_type": "execute_result",
          "data": {
            "text/plain": [
              "'helloworld'"
            ],
            "application/vnd.google.colaboratory.intrinsic+json": {
              "type": "string"
            }
          },
          "metadata": {},
          "execution_count": 5
        }
      ],
      "source": [
        "\"hello\" + \"world\""
      ]
    },
    {
      "cell_type": "code",
      "source": [
        "import pandas as pd\n",
        "import numpy as np\n",
        " import matplotlib.pyplot as plt"
      ],
      "metadata": {
        "colab": {
          "base_uri": "https://localhost:8080/",
          "height": 106
        },
        "id": "GWSwo99vCqqj",
        "outputId": "2d9cfe8b-365d-4517-a62e-24eb759ad5c6"
      },
      "execution_count": null,
      "outputs": [
        {
          "output_type": "error",
          "ename": "IndentationError",
          "evalue": "unexpected indent (<ipython-input-7-e2febb348a26>, line 3)",
          "traceback": [
            "\u001b[0;36m  File \u001b[0;32m\"<ipython-input-7-e2febb348a26>\"\u001b[0;36m, line \u001b[0;32m3\u001b[0m\n\u001b[0;31m    import matplotlib.pyplot as plt\u001b[0m\n\u001b[0m    ^\u001b[0m\n\u001b[0;31mIndentationError\u001b[0m\u001b[0;31m:\u001b[0m unexpected indent\n"
          ]
        }
      ]
    },
    {
      "cell_type": "code",
      "source": [
        "# Declare variables of different data types\n",
        "my_integer = 10           # Integer\n",
        "my_float = 20.5           # Float\n",
        "my_string = \"Hello, Jupyter!\"  # String\n",
        "my_boolean = True         # Boolean\n",
        "\n",
        "# Print each variable and its type\n",
        "print(\"Variable Values and Their Types:\")\n",
        "print(f\"Integer: {my_integer}, Type: {type(my_integer)}\")\n",
        "print(f\"Float: {my_float}, Type: {type(my_float)}\")\n",
        "print(f\"String: '{my_string}', Type: {type(my_string)}\")\n",
        "print(f\"Boolean: {my_boolean}, Type: {type(my_boolean)}\")"
      ],
      "metadata": {
        "id": "4zp50jwCDBxV",
        "colab": {
          "base_uri": "https://localhost:8080/"
        },
        "outputId": "a9fdd82a-17bb-4e24-bd6e-c9b7c49c2551"
      },
      "execution_count": null,
      "outputs": [
        {
          "output_type": "stream",
          "name": "stdout",
          "text": [
            "Variable Values and Their Types:\n",
            "Integer: 10, Type: <class 'int'>\n",
            "Float: 20.5, Type: <class 'float'>\n",
            "String: 'Hello, Jupyter!', Type: <class 'str'>\n",
            "Boolean: True, Type: <class 'bool'>\n"
          ]
        }
      ]
    },
    {
      "cell_type": "code",
      "source": [
        "s={40,50,60,70}\n",
        "s\n",
        "y={2,3,30,40}\n",
        "s.intersection(y)\n",
        "s.difference(y)\n",
        "s.union(y)\n",
        "s.add(3)\n",
        "s.difference(y)\n",
        "y.difference(s)\n",
        "s.symmetric_difference(y)\n"
      ],
      "metadata": {
        "colab": {
          "base_uri": "https://localhost:8080/"
        },
        "id": "EvbhBdZKRB1n",
        "outputId": "c5756de2-3ccd-4b6b-90b7-cdebbae98953"
      },
      "execution_count": null,
      "outputs": [
        {
          "output_type": "execute_result",
          "data": {
            "text/plain": [
              "{2, 30, 50, 60, 70}"
            ]
          },
          "metadata": {},
          "execution_count": 11
        }
      ]
    },
    {
      "cell_type": "code",
      "source": [
        "a=[1,2,3,4,5,5,66]\n",
        "a\n",
        "set= {22,23,34,43,0}\n",
        "set\n"
      ],
      "metadata": {
        "colab": {
          "base_uri": "https://localhost:8080/"
        },
        "id": "w9H5gePXS18O",
        "outputId": "60cde9b1-bef6-47c8-ce87-7f88084256b5"
      },
      "execution_count": null,
      "outputs": [
        {
          "output_type": "execute_result",
          "data": {
            "text/plain": [
              "{0, 22, 23, 34, 43}"
            ]
          },
          "metadata": {},
          "execution_count": 17
        }
      ]
    },
    {
      "cell_type": "code",
      "source": [
        "t1=(1,23,34,432)\n",
        "t2=(3)\n",
        "t1+t2"
      ],
      "metadata": {
        "colab": {
          "base_uri": "https://localhost:8080/",
          "height": 176
        },
        "id": "tG75AE-nXCtc",
        "outputId": "3f79db39-7de8-4af8-e425-629d497572e7"
      },
      "execution_count": null,
      "outputs": [
        {
          "output_type": "error",
          "ename": "TypeError",
          "evalue": "can only concatenate tuple (not \"int\") to tuple",
          "traceback": [
            "\u001b[0;31m---------------------------------------------------------------------------\u001b[0m",
            "\u001b[0;31mTypeError\u001b[0m                                 Traceback (most recent call last)",
            "\u001b[0;32m<ipython-input-20-315ef0f63fe7>\u001b[0m in \u001b[0;36m<cell line: 3>\u001b[0;34m()\u001b[0m\n\u001b[1;32m      1\u001b[0m \u001b[0mt1\u001b[0m\u001b[0;34m=\u001b[0m\u001b[0;34m(\u001b[0m\u001b[0;36m1\u001b[0m\u001b[0;34m,\u001b[0m\u001b[0;36m23\u001b[0m\u001b[0;34m,\u001b[0m\u001b[0;36m34\u001b[0m\u001b[0;34m,\u001b[0m\u001b[0;36m432\u001b[0m\u001b[0;34m)\u001b[0m\u001b[0;34m\u001b[0m\u001b[0;34m\u001b[0m\u001b[0m\n\u001b[1;32m      2\u001b[0m \u001b[0mt2\u001b[0m\u001b[0;34m=\u001b[0m\u001b[0;34m(\u001b[0m\u001b[0;36m3\u001b[0m\u001b[0;34m)\u001b[0m\u001b[0;34m\u001b[0m\u001b[0;34m\u001b[0m\u001b[0m\n\u001b[0;32m----> 3\u001b[0;31m \u001b[0mt1\u001b[0m\u001b[0;34m+\u001b[0m\u001b[0mt2\u001b[0m\u001b[0;34m\u001b[0m\u001b[0;34m\u001b[0m\u001b[0m\n\u001b[0m",
            "\u001b[0;31mTypeError\u001b[0m: can only concatenate tuple (not \"int\") to tuple"
          ]
        }
      ]
    },
    {
      "cell_type": "code",
      "source": [
        "d={101:3,123:22,1231:1}\n",
        "d"
      ],
      "metadata": {
        "id": "DmRZ1lvSXvYD",
        "colab": {
          "base_uri": "https://localhost:8080/"
        },
        "outputId": "fbffce83-bc7d-418c-e5e2-6a8dd42bcc22"
      },
      "execution_count": null,
      "outputs": [
        {
          "output_type": "execute_result",
          "data": {
            "text/plain": [
              "{101: 3, 123: 22, 1231: 1}"
            ]
          },
          "metadata": {},
          "execution_count": 20
        }
      ]
    },
    {
      "cell_type": "code",
      "source": [
        "d.update({101:33})\n",
        "d\n"
      ],
      "metadata": {
        "colab": {
          "base_uri": "https://localhost:8080/"
        },
        "id": "MWjJ375nGbVT",
        "outputId": "3d2b3737-87c2-4b4f-f73e-f587de4fe911"
      },
      "execution_count": null,
      "outputs": [
        {
          "output_type": "execute_result",
          "data": {
            "text/plain": [
              "{101: 33, 123: 22, 1231: 1}"
            ]
          },
          "metadata": {},
          "execution_count": 4
        }
      ]
    },
    {
      "cell_type": "code",
      "source": [
        "del d[101]"
      ],
      "metadata": {
        "colab": {
          "base_uri": "https://localhost:8080/",
          "height": 141
        },
        "id": "Es_KH-nPGnRZ",
        "outputId": "4d2cf268-eb51-442a-9e2d-681cd1efaf78"
      },
      "execution_count": null,
      "outputs": [
        {
          "output_type": "error",
          "ename": "KeyError",
          "evalue": "101",
          "traceback": [
            "\u001b[0;31m---------------------------------------------------------------------------\u001b[0m",
            "\u001b[0;31mKeyError\u001b[0m                                  Traceback (most recent call last)",
            "\u001b[0;32m<ipython-input-12-6937efa07122>\u001b[0m in \u001b[0;36m<cell line: 1>\u001b[0;34m()\u001b[0m\n\u001b[0;32m----> 1\u001b[0;31m \u001b[0;32mdel\u001b[0m \u001b[0md\u001b[0m\u001b[0;34m[\u001b[0m\u001b[0;36m101\u001b[0m\u001b[0;34m]\u001b[0m\u001b[0;34m\u001b[0m\u001b[0;34m\u001b[0m\u001b[0m\n\u001b[0m",
            "\u001b[0;31mKeyError\u001b[0m: 101"
          ]
        }
      ]
    },
    {
      "cell_type": "code",
      "source": [
        "d[101]=1111\n",
        "d"
      ],
      "metadata": {
        "colab": {
          "base_uri": "https://localhost:8080/"
        },
        "id": "qdlJmy_EG4N-",
        "outputId": "75d63dab-13f0-499f-e00c-64cccb621a02"
      },
      "execution_count": null,
      "outputs": [
        {
          "output_type": "execute_result",
          "data": {
            "text/plain": [
              "{101: 1111, 123: 22, 1231: 1}"
            ]
          },
          "metadata": {},
          "execution_count": 8
        }
      ]
    },
    {
      "cell_type": "code",
      "source": [
        "  d.get(101)"
      ],
      "metadata": {
        "colab": {
          "base_uri": "https://localhost:8080/"
        },
        "id": "q1OYfKTBHXjO",
        "outputId": "36604dc4-8827-4298-c4fc-c149c8efdacf"
      },
      "execution_count": null,
      "outputs": [
        {
          "output_type": "execute_result",
          "data": {
            "text/plain": [
              "1111"
            ]
          },
          "metadata": {},
          "execution_count": 10
        }
      ]
    },
    {
      "cell_type": "code",
      "source": [
        "d[101]=[111,222,2123,28190]\n",
        "d[101][2]# accessing"
      ],
      "metadata": {
        "colab": {
          "base_uri": "https://localhost:8080/"
        },
        "id": "wKE7XDQvHum3",
        "outputId": "ab6e3e05-4e5c-4fc0-fdcf-d054bdab19d0"
      },
      "execution_count": null,
      "outputs": [
        {
          "output_type": "execute_result",
          "data": {
            "text/plain": [
              "2123"
            ]
          },
          "metadata": {},
          "execution_count": 17
        }
      ]
    },
    {
      "cell_type": "code",
      "source": [
        "d.update({1231:(1,2,3,4,44,4)})\n",
        "d"
      ],
      "metadata": {
        "colab": {
          "base_uri": "https://localhost:8080/"
        },
        "id": "hk8VZl3mJOdc",
        "outputId": "9f3362d2-b2a5-479c-b3ea-7a5df8cee922"
      },
      "execution_count": null,
      "outputs": [
        {
          "output_type": "execute_result",
          "data": {
            "text/plain": [
              "{123: 22, 1231: (1, 2, 3, 4, 44, 4), 101: [111, 222, 2123, 28190]}"
            ]
          },
          "metadata": {},
          "execution_count": 19
        }
      ]
    },
    {
      "cell_type": "code",
      "source": [
        "e=[1,'w','33',2.6]\n",
        "e=('q',2,3.4,33)\n",
        "e={1:11,2:'ee'}\n",
        "e={11,11,'ee'}\n",
        "type(e)"
      ],
      "metadata": {
        "colab": {
          "base_uri": "https://localhost:8080/"
        },
        "id": "pHxQkihgKRzD",
        "outputId": "29562e0f-54e7-4abb-f0d8-6a5f49587f1f"
      },
      "execution_count": null,
      "outputs": [
        {
          "output_type": "execute_result",
          "data": {
            "text/plain": [
              "set"
            ]
          },
          "metadata": {},
          "execution_count": 31
        }
      ]
    },
    {
      "cell_type": "code",
      "source": [
        "{101 :{50: [7,8,9,10] ,'apple':(20,10.70,[90,181,270])}}\n",
        "#109 :(11, 2, 34, 55),\n",
        "#104=[1,2,2,3,3,4,3,2],\n",
        "#105:{'a':{30,50,70}}\n",
        "type(d[101])\n",
        "\n"
      ],
      "metadata": {
        "colab": {
          "base_uri": "https://localhost:8080/"
        },
        "id": "w27sa07HLwcc",
        "outputId": "8d7fa6d9-0fa2-4321-9002-2dbf852c4cde"
      },
      "execution_count": null,
      "outputs": [
        {
          "output_type": "execute_result",
          "data": {
            "text/plain": [
              "int"
            ]
          },
          "metadata": {},
          "execution_count": 35
        }
      ]
    },
    {
      "cell_type": "code",
      "source": [
        "\n",
        "n = int(input(\"Enter a positive integer: \"))\n",
        "\n",
        "\n",
        "print(\"\\nNumbers from 1 to\", n, \":\")\n",
        "for i in range(1, n + 1):\n",
        "    print(i)\n",
        "\n",
        "\n",
        "sum_of_numbers = 0\n",
        "counter = 1\n",
        "\n",
        "while counter <= n:\n",
        "    sum_of_numbers += counter\n",
        "    counter += 1\n",
        "\n",
        "\n",
        "print(\"\\nThe sum of numbers from 1 to\", n, \"is:\", sum_of_numbers)\n"
      ],
      "metadata": {
        "id": "A0FVgW-XQqXJ",
        "colab": {
          "base_uri": "https://localhost:8080/"
        },
        "outputId": "4a6e03db-2f16-49ca-a4fe-115a7bd02596"
      },
      "execution_count": null,
      "outputs": [
        {
          "output_type": "stream",
          "name": "stdout",
          "text": [
            "Enter a positive integer: 3\n",
            "\n",
            "Numbers from 1 to 3 :\n",
            "1\n",
            "2\n",
            "3\n",
            "\n",
            "The sum of numbers from 1 to 3 is: 6\n"
          ]
        }
      ]
    },
    {
      "cell_type": "code",
      "source": [
        "\n",
        "def calculate_square(n):\n",
        "    return n ** 2\n",
        "__\n",
        "num = int(input(\"Enter a positive integer: \"))\n",
        "\n",
        "result = calculate_square(num)\n",
        "print(f\"The square of {num} is: {result}\")\n"
      ],
      "metadata": {
        "colab": {
          "base_uri": "https://localhost:8080/"
        },
        "id": "gg13_SCntmsO",
        "outputId": "b15b8f6b-2d45-4411-e642-95787a0e59fe"
      },
      "execution_count": null,
      "outputs": [
        {
          "output_type": "stream",
          "name": "stdout",
          "text": [
            "Enter a positive integer: 5\n",
            "The square of 5 is: 25\n"
          ]
        }
      ]
    },
    {
      "cell_type": "code",
      "source": [],
      "metadata": {
        "id": "BXBxQIPCuiVd"
      },
      "execution_count": null,
      "outputs": []
    },
    {
      "cell_type": "code",
      "source": [
        "if condition1:\n",
        "  task1 block of code\n",
        "  elif condition2:\n",
        "    task2 block of Code\n",
        "  elif condition3:\n",
        "      task3 block of code\n",
        "      else:\n",
        "        task4 block of code\n"
      ],
      "metadata": {
        "id": "FBec8AIQNeqE",
        "colab": {
          "base_uri": "https://localhost:8080/",
          "height": 106
        },
        "outputId": "3c14f866-d722-44d9-a0a0-d83db6f084ac"
      },
      "execution_count": 1,
      "outputs": [
        {
          "output_type": "error",
          "ename": "SyntaxError",
          "evalue": "invalid syntax (<ipython-input-1-62b0a8535a81>, line 2)",
          "traceback": [
            "\u001b[0;36m  File \u001b[0;32m\"<ipython-input-1-62b0a8535a81>\"\u001b[0;36m, line \u001b[0;32m2\u001b[0m\n\u001b[0;31m    task1 block of code\u001b[0m\n\u001b[0m          ^\u001b[0m\n\u001b[0;31mSyntaxError\u001b[0m\u001b[0;31m:\u001b[0m invalid syntax\n"
          ]
        }
      ]
    },
    {
      "cell_type": "code",
      "source": [
        "x = 9\n",
        "if x%2==0:\n",
        "  print(\"Even\")\n",
        "else:\n",
        "  print(\"odd\")"
      ],
      "metadata": {
        "colab": {
          "base_uri": "https://localhost:8080/"
        },
        "id": "XmxrTWowQP9W",
        "outputId": "6c7b871f-78b4-4834-f07b-57c19732657c"
      },
      "execution_count": 3,
      "outputs": [
        {
          "output_type": "stream",
          "name": "stdout",
          "text": [
            "odd\n"
          ]
        }
      ]
    },
    {
      "cell_type": "code",
      "source": [
        "name ='Channel'\n",
        "if name.isalpha()==True:\n",
        "else:\n",
        "  print(\"Name should not contain digits and symbols\")\n",
        "\n",
        "\n"
      ],
      "metadata": {
        "colab": {
          "base_uri": "https://localhost:8080/",
          "height": 106
        },
        "id": "p-UO29BSQbGU",
        "outputId": "a886ad7a-c68f-4407-eb12-e030d5a1cbcb"
      },
      "execution_count": 4,
      "outputs": [
        {
          "output_type": "error",
          "ename": "IndentationError",
          "evalue": "expected an indented block after 'if' statement on line 2 (<ipython-input-4-ce03570c9df1>, line 3)",
          "traceback": [
            "\u001b[0;36m  File \u001b[0;32m\"<ipython-input-4-ce03570c9df1>\"\u001b[0;36m, line \u001b[0;32m3\u001b[0m\n\u001b[0;31m    else:\u001b[0m\n\u001b[0m    ^\u001b[0m\n\u001b[0;31mIndentationError\u001b[0m\u001b[0;31m:\u001b[0m expected an indented block after 'if' statement on line 2\n"
          ]
        }
      ]
    },
    {
      "cell_type": "code",
      "source": [
        "x='Telangana'\n",
        "x"
      ],
      "metadata": {
        "colab": {
          "base_uri": "https://localhost:8080/",
          "height": 35
        },
        "id": "DtYd_j1FRZOW",
        "outputId": "9657d256-89d7-4203-e3dd-b7b70180a365"
      },
      "execution_count": 6,
      "outputs": [
        {
          "output_type": "execute_result",
          "data": {
            "text/plain": [
              "'Telangana'"
            ],
            "application/vnd.google.colaboratory.intrinsic+json": {
              "type": "string"
            }
          },
          "metadata": {},
          "execution_count": 6
        }
      ]
    },
    {
      "cell_type": "code",
      "source": [
        "x='Maharastra'\n",
        "x"
      ],
      "metadata": {
        "colab": {
          "base_uri": "https://localhost:8080/",
          "height": 35
        },
        "id": "zVYkJiqUVel8",
        "outputId": "edc4c5ec-f295-4731-d230-9cef8d2a5743"
      },
      "execution_count": 7,
      "outputs": [
        {
          "output_type": "execute_result",
          "data": {
            "text/plain": [
              "'Maharastra'"
            ],
            "application/vnd.google.colaboratory.intrinsic+json": {
              "type": "string"
            }
          },
          "metadata": {},
          "execution_count": 7
        }
      ]
    },
    {
      "cell_type": "code",
      "source": [
        "x='mumbai'\n",
        "x"
      ],
      "metadata": {
        "colab": {
          "base_uri": "https://localhost:8080/",
          "height": 35
        },
        "id": "KwC0gBStVyzs",
        "outputId": "ef0f6a2c-d7f6-4d5d-de64-bf289e73a04c"
      },
      "execution_count": 8,
      "outputs": [
        {
          "output_type": "execute_result",
          "data": {
            "text/plain": [
              "'mumbai'"
            ],
            "application/vnd.google.colaboratory.intrinsic+json": {
              "type": "string"
            }
          },
          "metadata": {},
          "execution_count": 8
        }
      ]
    },
    {
      "cell_type": "code",
      "source": [
        "x='sfshksl'\n",
        "x=input(\"Enter a string:\")\n",
        "if(x[0]=='m' or x[0]=='M'):\n",
        "  print(\"Correct\")\n",
        "else:\n",
        "  print(\"Incorrect\")"
      ],
      "metadata": {
        "colab": {
          "base_uri": "https://localhost:8080/"
        },
        "id": "qRVe0LKcV4a5",
        "outputId": "7cc95268-be79-4985-a0ba-32e54fe65ccb"
      },
      "execution_count": 11,
      "outputs": [
        {
          "output_type": "stream",
          "name": "stdout",
          "text": [
            "Enter a string:m\n",
            "Correct\n"
          ]
        }
      ]
    },
    {
      "cell_type": "code",
      "source": [
        "x='arunachal pradesh'\n",
        "x=input(\"Enter a string:\")\n",
        "if x[0]=='a' or x[0]=='A' or x[0]==\"c\":\n",
        "  print(\"Correct\")\n",
        "else:\n",
        "  print(\"Incorrect\")"
      ],
      "metadata": {
        "id": "m951PKq0Wuzq"
      },
      "execution_count": null,
      "outputs": []
    },
    {
      "cell_type": "code",
      "source": [
        "x = input(\"hii \")\n",
        "if x[0].lower()=='m'or x[0].lower()=='s'or x[0].lower()=='c':\n",
        "  print(\"Correct\")\n",
        "else:\n",
        "  print(\"Incorrect\")"
      ],
      "metadata": {
        "id": "NHXrxhzNYvll"
      },
      "execution_count": null,
      "outputs": []
    },
    {
      "cell_type": "code",
      "source": [
        "x='ghjk'\n",
        "if x[0] .lower() in ['m','s','c']:\n",
        "  print(\"Correct\")\n",
        "else:\n",
        "  print(\"Incorrect\")"
      ],
      "metadata": {
        "id": "HQnNJpLwZpM5"
      },
      "execution_count": null,
      "outputs": []
    },
    {
      "cell_type": "code",
      "source": [],
      "metadata": {
        "id": "Tx7hxSc0a7oG"
      },
      "execution_count": null,
      "outputs": []
    }
  ],
  "metadata": {
    "colab": {
      "provenance": [],
      "authorship_tag": "ABX9TyNUIo9U5U8bRRGeVPE8sCI7",
      "include_colab_link": true
    },
    "kernelspec": {
      "display_name": "Python 3",
      "name": "python3"
    },
    "language_info": {
      "name": "python"
    }
  },
  "nbformat": 4,
  "nbformat_minor": 0
}